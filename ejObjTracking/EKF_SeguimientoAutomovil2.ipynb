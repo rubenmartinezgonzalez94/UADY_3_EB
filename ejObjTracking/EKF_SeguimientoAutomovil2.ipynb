{
 "cells": [
  {
   "metadata": {
    "ExecuteTime": {
     "end_time": "2024-10-30T02:17:19.705958Z",
     "start_time": "2024-10-30T02:17:19.634060Z"
    }
   },
   "cell_type": "code",
   "source": [
    "import numpy as np\n",
    "import matplotlib.pyplot as plt\n",
    "import numpy.random as rnd\n",
    "\n",
    "# Suponiendo que ya has cargado tus datos y configurado las variables previas\n",
    "\n",
    "# 1. Inicializar el estado y la matriz de incertidumbre\n",
    "x = np.zeros((6, N))  # Estado: [x, vx, ax, y, vy, ay]\n",
    "x[:, 0] = np.array([0, 0, 0, 0, 0, 0])  # Inicializar en el origen\n",
    "\n",
    "# 2. Implementar el ciclo de predicción y actualización del filtro de Kalman\n",
    "x_hat = np.zeros((6, N))  # Estimaciones del estado\n",
    "x_hat[:, 0] = x[:, 0]\n",
    "\n",
    "for k in range(1, N):\n",
    "    # Predicción\n",
    "    x[:, k] = _A @ x[:, k - 1]  # Predicción del estado\n",
    "    P = _A @ P @ _A.T + Q  # Actualización de la incertidumbre\n",
    "\n",
    "    # Medición\n",
    "    z_k = zn[:, k]  # Medición\n",
    "    H = jacobian_h(x[0, k], x[3, k])  # Jacobiano de la medición\n",
    "    R = measurement_covariance(np.sqrt(varRnge), np.sqrt(varTheta))  # Covarianza de la medición\n",
    "\n",
    "    # Innovación\n",
    "    y = z_k - H @ x[:, k]  # Residuo\n",
    "    S = H @ P @ H.T + R  # Covarianza del residuo\n",
    "    K = P @ H.T @ np.linalg.inv(S)  # Ganancia de Kalman\n",
    "\n",
    "    # Actualización\n",
    "    x[:, k] += K @ y  # Actualizar la estimación del estado\n",
    "    P = (np.eye(6) - K @ H) @ P  # Actualizar la incertidumbre\n",
    "\n",
    "    x_hat[:, k] = x[:, k]  # Guardar la estimación\n",
    "\n",
    "# 3. Visualizar los resultados\n",
    "fig, (ax1, ax2, ax3) = plt.subplots(3, 1, figsize=(10, 15))\n",
    "\n",
    "# Posición del vehículo en X vs Y\n",
    "ax1.plot(x_hat[0, :], x_hat[3, :], label='Estimación', color='b')\n",
    "ax1.plot(Crv[0, :] * 10, Crv[1, :] * 10, label='Trayectoria Real', color='r', linestyle='--')\n",
    "ax1.set_title('Posición del Vehículo en X vs Y')\n",
    "ax1.set_xlabel('Posición X (m)')\n",
    "ax1.set_ylabel('Posición Y (m)')\n",
    "ax1.legend()\n",
    "ax1.grid()\n",
    "\n",
    "# Velocidad en X vs tiempo\n",
    "ax2.plot(t, x_hat[1, :], label='Velocidad en X', color='g')\n",
    "ax2.set_title('Velocidad en X vs Tiempo')\n",
    "ax2.set_xlabel('Tiempo (s)')\n",
    "ax2.set_ylabel('Velocidad en X (m/s)')\n",
    "ax2.legend()\n",
    "ax2.grid()\n",
    "\n",
    "# Velocidad en Y vs tiempo\n",
    "ax3.plot(t, x_hat[4, :], label='Velocidad en Y', color='m')\n",
    "ax3.set_title('Velocidad en Y vs Tiempo')\n",
    "ax3.set_xlabel('Tiempo (s)')\n",
    "ax3.set_ylabel('Velocidad en Y (m/s)')\n",
    "ax3.legend()\n",
    "ax3.grid()\n",
    "\n",
    "plt.tight_layout()\n",
    "plt.show()\n"
   ],
   "id": "1d11ab3807223e8c",
   "outputs": [
    {
     "name": "stdout",
     "output_type": "stream",
     "text": [
      "Crv.shape =  (6, 1250)\n"
     ]
    },
    {
     "ename": "ValueError",
     "evalue": "operands could not be broadcast together with shapes (4,) (2,) ",
     "output_type": "error",
     "traceback": [
      "\u001B[1;31m---------------------------------------------------------------------------\u001B[0m",
      "\u001B[1;31mValueError\u001B[0m                                Traceback (most recent call last)",
      "Cell \u001B[1;32mIn[3], line 91\u001B[0m\n\u001B[0;32m     89\u001B[0m \u001B[38;5;66;03m# Aplicar el filtro de Kalman a las mediciones\u001B[39;00m\n\u001B[0;32m     90\u001B[0m \u001B[38;5;28;01mfor\u001B[39;00m z \u001B[38;5;129;01min\u001B[39;00m zn\u001B[38;5;241m.\u001B[39mT:  \u001B[38;5;66;03m# Transponemos para iterar por las mediciones\u001B[39;00m\n\u001B[1;32m---> 91\u001B[0m     Xhat, Phat, _ \u001B[38;5;241m=\u001B[39m KalmanFilter(Xhat, Phat, np\u001B[38;5;241m.\u001B[39mzeros((\u001B[38;5;241m1\u001B[39m,)), z, A, B, H, Q, R)\n\u001B[0;32m     92\u001B[0m     predictions\u001B[38;5;241m.\u001B[39mappend(Xhat\u001B[38;5;241m.\u001B[39mcopy())\n\u001B[0;32m     94\u001B[0m \u001B[38;5;66;03m# Visualización de resultados\u001B[39;00m\n",
      "Cell \u001B[1;32mIn[3], line 70\u001B[0m, in \u001B[0;36mKalmanFilter\u001B[1;34m(Xhat_k0, Phat_k0, U_k1, Z_k, A, B, H, Q, R)\u001B[0m\n\u001B[0;32m     67\u001B[0m Kgain \u001B[38;5;241m=\u001B[39m np\u001B[38;5;241m.\u001B[39mdot(np\u001B[38;5;241m.\u001B[39mdot(Pbar_k1, H\u001B[38;5;241m.\u001B[39mtranspose()), denom)\n\u001B[0;32m     69\u001B[0m \u001B[38;5;66;03m# Actualizamos el Estado y su incertidumbre.\u001B[39;00m\n\u001B[1;32m---> 70\u001B[0m Xhat_k1 \u001B[38;5;241m=\u001B[39m Xbar_k1 \u001B[38;5;241m+\u001B[39m np\u001B[38;5;241m.\u001B[39mdot(Kgain, (Z_k \u001B[38;5;241m-\u001B[39m np\u001B[38;5;241m.\u001B[39mdot(H, Xbar_k1)))\n\u001B[0;32m     71\u001B[0m Phat_k1 \u001B[38;5;241m=\u001B[39m np\u001B[38;5;241m.\u001B[39mdot(np\u001B[38;5;241m.\u001B[39meye(\u001B[38;5;28mlen\u001B[39m(Xhat_k0)) \u001B[38;5;241m-\u001B[39m np\u001B[38;5;241m.\u001B[39mdot(Kgain, H), Pbar_k1)\n\u001B[0;32m     73\u001B[0m \u001B[38;5;28;01mreturn\u001B[39;00m Xhat_k1, Phat_k1, Xbar_k1\n",
      "\u001B[1;31mValueError\u001B[0m: operands could not be broadcast together with shapes (4,) (2,) "
     ]
    }
   ],
   "execution_count": 3
  }
 ],
 "metadata": {
  "colab": {
   "provenance": []
  },
  "kernelspec": {
   "display_name": "Python 3 (ipykernel)",
   "language": "python",
   "name": "python3"
  },
  "language_info": {
   "codemirror_mode": {
    "name": "ipython",
    "version": 3
   },
   "file_extension": ".py",
   "mimetype": "text/x-python",
   "name": "python",
   "nbconvert_exporter": "python",
   "pygments_lexer": "ipython3",
   "version": "3.11.2"
  }
 },
 "nbformat": 4,
 "nbformat_minor": 5
}
