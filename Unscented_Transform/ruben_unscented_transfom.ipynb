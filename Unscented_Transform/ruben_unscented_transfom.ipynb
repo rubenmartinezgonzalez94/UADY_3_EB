{
 "cells": [
  {
   "cell_type": "code",
   "id": "initial_id",
   "metadata": {
    "collapsed": true,
    "ExecuteTime": {
     "end_time": "2024-11-11T19:05:01.095862Z",
     "start_time": "2024-11-11T19:05:01.092339Z"
    }
   },
   "source": [
    "import numpy as np\n",
    "import matplotlib.pyplot as plt"
   ],
   "outputs": [],
   "execution_count": 13
  },
  {
   "metadata": {},
   "cell_type": "markdown",
   "source": [
    "# 1. Generación de datos aleatorios y transformación inicial\n",
    "\n",
    "genera puntos aleatorios y aplicando una transformación lineal seguida de una rotación.\n",
    "```matlab\n",
    "p = randn([2,100000]);\n",
    "H = diag([10,5]);\n",
    "an = 30 * 180 / pi;\n",
    "R = [cos(an), -sin(an); sin(an), cos(an)];\n",
    "p2 = ((R * H * p) + [26; 61]);"
   ],
   "id": "38bae481926eef75"
  },
  {
   "metadata": {
    "ExecuteTime": {
     "end_time": "2024-11-11T19:05:01.130414Z",
     "start_time": "2024-11-11T19:05:01.118392Z"
    }
   },
   "cell_type": "code",
   "source": [
    "# Generar 100,000 muestras aleatorias de una distribución normal (2D)\n",
    "p = np.random.randn(2, 100000)\n",
    "\n",
    "# Matriz de escala (H) y ángulo de rotación (an)\n",
    "H = np.diag([10, 5])\n",
    "# an = 30 * np.pi / 180  # Convertir a radianes\n",
    "an = 30 * 180 / np.pi  # Convertir a grados\n",
    "R = np.array([[np.cos(an), -np.sin(an)], [np.sin(an), np.cos(an)]])\n",
    "\n",
    "# Aplicar transformación y traslación\n",
    "p2 = (R @ H @ p) + np.array([[26], [61]])\n"
   ],
   "id": "d26ea1ba7af5363b",
   "outputs": [],
   "execution_count": 14
  },
  {
   "metadata": {},
   "cell_type": "markdown",
   "source": [
    "# 2. Cálculo de la media y covarianza\n",
    "\n",
    "calcula la media y la covarianza de los puntos transformados.\n",
    "```matlab\n",
    "m = mean(p2')';\n",
    "s = cov(p2')';"
   ],
   "id": "df15c26b934a0c77"
  },
  {
   "metadata": {
    "ExecuteTime": {
     "end_time": "2024-11-11T19:05:01.148176Z",
     "start_time": "2024-11-11T19:05:01.141991Z"
    }
   },
   "cell_type": "code",
   "source": [
    "# Calcular la media y la covarianza de los puntos transformados\n",
    "m = np.mean(p2, axis=1)\n",
    "s = np.cov(p2)"
   ],
   "id": "367264736d4f08e5",
   "outputs": [],
   "execution_count": 15
  },
  {
   "metadata": {},
   "cell_type": "markdown",
   "source": [
    "# 3. Definir los parámetros para los Sigma Points\n",
    "\n",
    "define los parámetros para el Unscented Transform y calculas los sigma points.\n",
    "\n",
    "```matlab\n",
    "n = 2;\n",
    "alpha = 1;\n",
    "beta = 2;\n",
    "k = 1;\n",
    "lambda = alpha**2 * (n + k) - n;\n",
    "q = np.linalg.cholesky((n + lambda) * s).T\n"
   ],
   "id": "d6db539cc548f9fd"
  },
  {
   "metadata": {
    "ExecuteTime": {
     "end_time": "2024-11-11T19:05:01.163814Z",
     "start_time": "2024-11-11T19:05:01.159529Z"
    }
   },
   "cell_type": "code",
   "source": [
    "n = 2\n",
    "alpha = 1\n",
    "beta = 2\n",
    "k = 1\n",
    "lambda_ = alpha ** 2 * (n + k) - n\n",
    "\n",
    "# Calcular la raíz de Cholesky\n",
    "q = np.linalg.cholesky((n + lambda_) * s).T"
   ],
   "id": "cc4005f52d7ad3eb",
   "outputs": [],
   "execution_count": 16
  },
  {
   "metadata": {},
   "cell_type": "markdown",
   "source": "",
   "id": "a31a1edd8f6ce49"
  },
  {
   "metadata": {},
   "cell_type": "markdown",
   "source": [
    "# 4. Generar los Sigma Points\n",
    "Calcula los sigma points basados en la media y la covarianza.\n",
    "```matlab\n",
    "Sigma0 = m;\n",
    "Sigma1 = m + q[:,0];\n",
    "Sigma2 = m + q[:,1];\n",
    "Sigma3 = m - q[:,1];\n",
    "Sigma4 = m - q[:,0];\n"
   ],
   "id": "3a897647f3114ca4"
  },
  {
   "metadata": {
    "ExecuteTime": {
     "end_time": "2024-11-11T19:05:01.178712Z",
     "start_time": "2024-11-11T19:05:01.174281Z"
    }
   },
   "cell_type": "code",
   "source": [
    "# Generar los sigma points\n",
    "Sigma0 = m\n",
    "Sigma1 = m + q[:, 0]\n",
    "Sigma2 = m + q[:, 1]\n",
    "Sigma3 = m - q[:, 1]\n",
    "Sigma4 = m - q[:, 0]"
   ],
   "id": "d8231843f94b3639",
   "outputs": [],
   "execution_count": 17
  },
  {
   "metadata": {},
   "cell_type": "markdown",
   "source": [
    "# 5. Asignar pesos a los Sigma Points\n",
    "Asigna los pesos para la media (w_m) y para la covarianza (w_c).\n",
    "```matlab\n",
    "w0m = lambda / (n + lambda);\n",
    "w0c = lambda / (n + lambda) + (1 - alpha**2 + beta);\n",
    "w1m = 1 / (2 * (n + lambda));\n",
    "w1c = w1m;\n"
   ],
   "id": "725925b742d0679c"
  },
  {
   "metadata": {
    "ExecuteTime": {
     "end_time": "2024-11-11T19:05:01.194643Z",
     "start_time": "2024-11-11T19:05:01.189737Z"
    }
   },
   "cell_type": "code",
   "source": [
    "# Pesos para la media y covarianza\n",
    "w0m = lambda_ / (n + lambda_)\n",
    "w0c = lambda_ / (n + lambda_) + (1 - alpha ** 2 + beta)\n",
    "w1m = 1 / (2 * (n + lambda_))\n",
    "w1c = w1m\n"
   ],
   "id": "baa19ad9f1102620",
   "outputs": [],
   "execution_count": 18
  },
  {
   "metadata": {},
   "cell_type": "markdown",
   "source": "",
   "id": "b24af7687913ba80"
  },
  {
   "metadata": {},
   "cell_type": "markdown",
   "source": [
    "# 6. Cálculo de la media y la covarianza transformadas\n",
    "Calcula la media y la covarianza de los sigma points.\n",
    "```matlab\n",
    "m2 = w0m * Sigma0 + w1m * (Sigma1 + Sigma2 + Sigma3 + Sigma4);\n",
    "s2 = w0c * (Sigma0 - m2) * (Sigma0 - m2)' + ...\n",
    "     w1c * ((Sigma1 - m2) * (Sigma1 - m2)' + ...\n",
    "     (Sigma2 - m2) * (Sigma2 - m2)' + ...\n",
    "     (Sigma3 - m2) * (Sigma3 - m2)' + ...\n",
    "     (Sigma4 - m2) * (Sigma4 - m2)');\n"
   ],
   "id": "f6ff1039857b877c"
  },
  {
   "metadata": {
    "ExecuteTime": {
     "end_time": "2024-11-11T19:05:01.210056Z",
     "start_time": "2024-11-11T19:05:01.205689Z"
    }
   },
   "cell_type": "code",
   "source": [
    "# Calcular la media transformada\n",
    "m2 = w0m * Sigma0 + w1m * (Sigma1 + Sigma2 + Sigma3 + Sigma4)\n",
    "\n",
    "# Calcular la covarianza transformada\n",
    "s2 = (\n",
    "        w0c * np.outer(Sigma0 - m2, Sigma0 - m2)\n",
    "        + w1c * (np.outer(Sigma1 - m2, Sigma1 - m2)\n",
    "                 + np.outer(Sigma2 - m2, Sigma2 - m2)\n",
    "                 + np.outer(Sigma3 - m2, Sigma3 - m2)\n",
    "                 + np.outer(Sigma4 - m2, Sigma4 - m2))\n",
    ")\n"
   ],
   "id": "d1c182f46c48e4a",
   "outputs": [],
   "execution_count": 19
  },
  {
   "metadata": {},
   "cell_type": "markdown",
   "source": [
    "# 7. Transformación no lineal funcG y cálculos finales\n",
    "aplica una función no lineal y calcula la media y covarianza posterior.\n",
    "```matlab\n",
    "Y0 = funcG(Sigma0);\n",
    "Y1 = funcG(Sigma1);\n",
    "Y2 = funcG(Sigma2);\n",
    "Y3 = funcG(Sigma3);\n",
    "Y4 = funcG(Sigma4);\n",
    "my2 = w0m*Y0 + w1m*(Y1 + Y2 + Y3 + Y4);\n"
   ],
   "id": "d11fdbf7c4194660"
  },
  {
   "metadata": {
    "ExecuteTime": {
     "end_time": "2024-11-11T19:05:01.226318Z",
     "start_time": "2024-11-11T19:05:01.221593Z"
    }
   },
   "cell_type": "code",
   "source": [
    "def funcG(x):\n",
    "    return np.array([\n",
    "        1 / (1 + np.exp(-(x[0] - 30) / 10)),\n",
    "        1 / (1 + np.exp(-(x[1] + 10) / 10))\n",
    "    ])\n",
    "\n",
    "\n",
    "Y0 = funcG(Sigma0)\n",
    "Y1 = funcG(Sigma1)\n",
    "Y2 = funcG(Sigma2)\n",
    "Y3 = funcG(Sigma3)\n",
    "Y4 = funcG(Sigma4)\n",
    "\n",
    "my2 = w0m * Y0 + w1m * (Y1 + Y2 + Y3 + Y4)\n"
   ],
   "id": "35ffa012c34f9603",
   "outputs": [],
   "execution_count": 20
  },
  {
   "metadata": {},
   "cell_type": "markdown",
   "source": "",
   "id": "5b4cebfc07539f06"
  },
  {
   "metadata": {},
   "cell_type": "markdown",
   "source": [
    "# 8. Gráficas\n",
    "graficamos los puntos originales y los transformados."
   ],
   "id": "db556b3613cf74fc"
  },
  {
   "metadata": {
    "ExecuteTime": {
     "end_time": "2024-11-11T19:05:02.342173Z",
     "start_time": "2024-11-11T19:05:01.238169Z"
    }
   },
   "cell_type": "code",
   "source": [
    "plt.figure(figsize=(8, 6))\n",
    "plt.scatter(p2[0, :], p2[1, :], c='r', label='Original')\n",
    "plt.scatter([Y0[0], Y1[0], Y2[0], Y3[0], Y4[0]],\n",
    "            [Y0[1], Y1[1], Y2[1], Y3[1], Y4[1]],\n",
    "            c='b', label='Transformed')\n",
    "plt.xlabel('X')\n",
    "plt.ylabel('Y')\n",
    "plt.legend()\n",
    "plt.grid(True)\n",
    "plt.title('Unscented Transform')\n",
    "plt.show()\n"
   ],
   "id": "3f32760c2134de8d",
   "outputs": [
    {
     "data": {
      "text/plain": [
       "<Figure size 800x600 with 1 Axes>"
      ],
      "image/png": "[encoded data removed]"
     },
     "metadata": {},
     "output_type": "display_data"
    }
   ],
   "execution_count": 21
  },
  {
   "metadata": {},
   "cell_type": "markdown",
   "source": "#  función no lineal de \\\\(\\mathbb{R}^2\\\\) a \\\\(\\mathbb{R}^2\\\\). que varíe no linealmente en el intervalo de las coordenadas de los puntosLa ecuación es la siguiente:\n",
   "id": "a3ce3b42cb600170"
  },
  {
   "metadata": {},
   "cell_type": "markdown",
   "source": [
    "1. **Primera Componente** \\\\(y_1\\\\):\n",
    "\n",
    "$$\n",
    "y_1 = \\sin\\left(\\frac{x_0}{10}\\right) + 0.5 \\cdot \\frac{x_1^2}{100}\n",
    "$$\n",
    "\n",
    "   - **Descripción**:\n",
    "     - El término \\\\(\\sin\\left(\\frac{x_0}{10}\\right)\\\\) introduce una variación periódica en función de la primera coordenada \\\\(x_0\\\\).\n",
    "     - El término cuadrático \\\\(0.5 \\cdot \\frac{x_1^2}{100}\\\\) añade un efecto no lineal basado en la segunda coordenada \\\\(x_1\\\\), ajustado por un factor de escala para controlar su magnitud.\n",
    "\n",
    "2. **Segunda Componente** \\\\(y_2\\\\):\n",
    "\n",
    "   $$\n",
    "   y_2 = \\cos\\left(\\frac{x_1}{10}\\right) + 0.3 \\cdot \\frac{x_0^2}{100}\n",
    "   $$\n",
    "\n",
    "   - **Descripción**:\n",
    "     - El término \\\\(\\cos\\left(\\frac{x_1}{10}\\right)\\\\) proporciona una variación periódica en función de la segunda coordenada \\\\(x_1\\\\).\n",
    "     - El término cuadrático \\\\(0.3 \\cdot \\frac{x_0^2}{100}\\\\) introduce una dependencia no lineal adicional en la primera coordenada \\\\(x_0\\\\), con un factor de escala que atenúa su impacto.\n",
    "\n",
    "\n"
   ],
   "id": "9ceb55ba3c57a9bf"
  },
  {
   "metadata": {
    "ExecuteTime": {
     "end_time": "2024-11-11T19:05:02.355571Z",
     "start_time": "2024-11-11T19:05:02.351225Z"
    }
   },
   "cell_type": "code",
   "source": [
    "def funcG_2(x):\n",
    "    \"\"\"\n",
    "    Nueva función no lineal que mapea R^2 -> R^2.\n",
    "    Combina funciones trigonométricas y cuadráticas para mayor no linealidad.\n",
    "    \"\"\"\n",
    "    return np.array([\n",
    "        np.sin(x[0] / 10) + 0.5 * (x[1] ** 2) / 100,  # Primera componente\n",
    "        np.cos(x[1] / 10) + 0.3 * (x[0] ** 2) / 100  # Segunda componente\n",
    "    ])"
   ],
   "id": "dfdcead29a90b5c9",
   "outputs": [],
   "execution_count": 22
  },
  {
   "metadata": {
    "ExecuteTime": {
     "end_time": "2024-11-11T19:05:02.372869Z",
     "start_time": "2024-11-11T19:05:02.367465Z"
    }
   },
   "cell_type": "code",
   "source": [
    "# Calcular los sigma points transformados con la nueva función no lineal\n",
    "Y0 = funcG_2(Sigma0)\n",
    "Y1 = funcG_2(Sigma1)\n",
    "Y2 = funcG_2(Sigma2)\n",
    "Y3 = funcG_2(Sigma3)\n",
    "Y4 = funcG_2(Sigma4)\n",
    "\n",
    "# Calcular la nueva media transformada\n",
    "my2 = w0m * Y0 + w1m * (Y1 + Y2 + Y3 + Y4)\n",
    "\n",
    "# Calcular la nueva covarianza transformada\n",
    "sy2 = (\n",
    "        w0c * np.outer(Y0 - my2, Y0 - my2) +\n",
    "        w1c * (np.outer(Y1 - my2, Y1 - my2) +\n",
    "               np.outer(Y2 - my2, Y2 - my2) +\n",
    "               np.outer(Y3 - my2, Y3 - my2) +\n",
    "               np.outer(Y4 - my2, Y4 - my2))\n",
    ")\n",
    "\n",
    "# Imprimir resultados\n",
    "print(\"Media transformada (my2):\\n\", my2)\n",
    "print(\"\\nCovarianza transformada (sy2):\\n\", sy2)\n"
   ],
   "id": "1541d67ccee7a747",
   "outputs": [
    {
     "name": "stdout",
     "output_type": "stream",
     "text": [
      "Media transformada (my2):\n",
      " [19.05598497  3.16654952]\n",
      "\n",
      "Covarianza transformada (sy2):\n",
      " [[9.53300319 0.74600197]\n",
      " [0.74600197 2.67240925]]\n"
     ]
    }
   ],
   "execution_count": 23
  },
  {
   "metadata": {
    "ExecuteTime": {
     "end_time": "2024-11-11T19:05:03.398591Z",
     "start_time": "2024-11-11T19:05:02.403653Z"
    }
   },
   "cell_type": "code",
   "source": [
    "# Graficar puntos originales vs puntos transformados\n",
    "plt.figure(figsize=(8, 6))\n",
    "plt.scatter(p2[0, :], p2[1, :], c='r', label='Original Points')\n",
    "plt.scatter([Y0[0], Y1[0], Y2[0], Y3[0], Y4[0]],\n",
    "            [Y0[1], Y1[1], Y2[1], Y3[1], Y4[1]],\n",
    "            c='b', label='Transformed Sigma Points')\n",
    "plt.xlabel('X')\n",
    "plt.ylabel('Y')\n",
    "plt.legend()\n",
    "plt.grid(True)\n",
    "plt.title('Unscented Transform with Non-linear Function')\n",
    "plt.show()\n"
   ],
   "id": "a5c257b4821a1d07",
   "outputs": [
    {
     "data": {
      "text/plain": [
       "<Figure size 800x600 with 1 Axes>"
      ],
      "image/png": "[encoded data removed]"
     },
     "metadata": {},
     "output_type": "display_data"
    }
   ],
   "execution_count": 24
  }
 ],
 "metadata": {
  "kernelspec": {
   "display_name": "Python 3",
   "language": "python",
   "name": "python3"
  },
  "language_info": {
   "codemirror_mode": {
    "name": "ipython",
    "version": 2
   },
   "file_extension": ".py",
   "mimetype": "text/x-python",
   "name": "python",
   "nbconvert_exporter": "python",
   "pygments_lexer": "ipython2",
   "version": "2.7.6"
  }
 },
 "nbformat": 4,
 "nbformat_minor": 5
}
